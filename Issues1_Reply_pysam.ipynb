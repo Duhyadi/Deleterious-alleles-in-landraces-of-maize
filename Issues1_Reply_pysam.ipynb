{
 "cells": [
  {
   "cell_type": "code",
   "execution_count": 2,
   "metadata": {},
   "outputs": [],
   "source": [
    "import pysam"
   ]
  },
  {
   "cell_type": "markdown",
   "metadata": {},
   "source": [
    "## Se indica el archivo vcf que se utilizará:"
   ]
  },
  {
   "cell_type": "code",
   "execution_count": 3,
   "metadata": {},
   "outputs": [],
   "source": [
    "file = \"/home/duhyadi/Desktop/Proyecto_alelos_deletereos/Prediction of deleterious alleles/Data/nuevos_final26mar.vcf\""
   ]
  },
  {
   "cell_type": "markdown",
   "metadata": {},
   "source": [
    "## Se carga el archivo vcf mediante VariantFile de pysam"
   ]
  },
  {
   "cell_type": "code",
   "execution_count": 4,
   "metadata": {},
   "outputs": [],
   "source": [
    "vcf = pysam.VariantFile(file)"
   ]
  },
  {
   "cell_type": "markdown",
   "metadata": {},
   "source": [
    "## Ahora, corresponde cargar el genoma de referencia en formato fasta:"
   ]
  },
  {
   "cell_type": "code",
   "execution_count": 5,
   "metadata": {},
   "outputs": [],
   "source": [
    "filefasta = \"/home/duhyadi/Documents/2020_1/Clase_Camille/Mi_nuevo_repo/Arteaga_et_al_2016/Data/Zea_mays.B73_RefGen_v4.dna_sm.toplevel.fa\"\n",
    "genome = pysam.FastaFile(filefasta)"
   ]
  },
  {
   "cell_type": "markdown",
   "metadata": {},
   "source": [
    "# define by how many bases the variant should be flanked"
   ]
  },
  {
   "cell_type": "code",
   "execution_count": 6,
   "metadata": {},
   "outputs": [],
   "source": [
    "flank = 50"
   ]
  },
  {
   "cell_type": "markdown",
   "metadata": {},
   "source": [
    "# iterate over each variant\n",
    "for record in vcf:\n",
    "    1. extract sequence\n",
    "  \n",
    "    2. The start position is calculated by subtract the number of bases\n",
    "    given by 'flank' from the variant position. The position in the vcf file\n",
    "    is 1-based. pysam's fetch() expected 0-base coordinate. That's why we\n",
    "    need to subtract on more base.\n",
    "    \n",
    "    3. The end position is calculated by adding the number of bases\n",
    "    given by 'flank' to the variant position. We also need to add the length\n",
    "    of the REF value and subtract again 1 due to the 0-based/1-based thing.\n",
    "    \n",
    "    4. Now we have the complete sequence like this:\n",
    "    [number of bases given by flank]+REF+[number of bases given by flank]"
   ]
  },
  {
   "cell_type": "code",
   "execution_count": 18,
   "metadata": {},
   "outputs": [
    {
     "ename": "ValueError",
     "evalue": "start out of range (-46)",
     "output_type": "error",
     "traceback": [
      "\u001b[0;31m---------------------------------------------------------------------------\u001b[0m",
      "\u001b[0;31mValueError\u001b[0m                                Traceback (most recent call last)",
      "\u001b[0;32m<ipython-input-18-d08c37d5ee32>\u001b[0m in \u001b[0;36m<module>\u001b[0;34m()\u001b[0m\n\u001b[1;32m      9\u001b[0m     \u001b[0;31m#      '{}[{}/{}]{}'.format(seq[:flank], record.ref,\u001b[0m\u001b[0;34m\u001b[0m\u001b[0;34m\u001b[0m\u001b[0m\n\u001b[1;32m     10\u001b[0m     \u001b[0;31m#                           record.alts[0], seq[flank+len(record.ref):]), sep=\"\\t\")\u001b[0m\u001b[0;34m\u001b[0m\u001b[0;34m\u001b[0m\u001b[0m\n\u001b[0;32m---> 11\u001b[0;31m     \u001b[0mseq\u001b[0m \u001b[0;34m=\u001b[0m \u001b[0mgenome\u001b[0m\u001b[0;34m.\u001b[0m\u001b[0mfetch\u001b[0m\u001b[0;34m(\u001b[0m\u001b[0mrecord\u001b[0m\u001b[0;34m.\u001b[0m\u001b[0mchrom\u001b[0m\u001b[0;34m,\u001b[0m \u001b[0mrecord\u001b[0m\u001b[0;34m.\u001b[0m\u001b[0mpos\u001b[0m\u001b[0;34m-\u001b[0m\u001b[0;36m1\u001b[0m\u001b[0;34m-\u001b[0m\u001b[0mflank\u001b[0m\u001b[0;34m,\u001b[0m \u001b[0mrecord\u001b[0m\u001b[0;34m.\u001b[0m\u001b[0mpos\u001b[0m\u001b[0;34m-\u001b[0m\u001b[0;36m1\u001b[0m\u001b[0;34m+\u001b[0m\u001b[0mlen\u001b[0m\u001b[0;34m(\u001b[0m\u001b[0mrecord\u001b[0m\u001b[0;34m.\u001b[0m\u001b[0mref\u001b[0m\u001b[0;34m)\u001b[0m\u001b[0;34m+\u001b[0m\u001b[0mflank\u001b[0m\u001b[0;34m)\u001b[0m\u001b[0;34m\u001b[0m\u001b[0m\n\u001b[0m\u001b[1;32m     12\u001b[0m     \u001b[0mt\u001b[0m\u001b[0;34m=\u001b[0m\u001b[0;34m(\u001b[0m\u001b[0mseq\u001b[0m\u001b[0;34m,\u001b[0m \u001b[0mrecord\u001b[0m\u001b[0;34m.\u001b[0m\u001b[0mchrom\u001b[0m\u001b[0;34m,\u001b[0m \u001b[0mstr\u001b[0m\u001b[0;34m(\u001b[0m\u001b[0mrecord\u001b[0m\u001b[0;34m.\u001b[0m\u001b[0mpos\u001b[0m\u001b[0;34m)\u001b[0m\u001b[0;34m,\u001b[0m \u001b[0mrecord\u001b[0m\u001b[0;34m.\u001b[0m\u001b[0mid\u001b[0m\u001b[0;34m,\u001b[0m \u001b[0mrecord\u001b[0m\u001b[0;34m.\u001b[0m\u001b[0mref\u001b[0m\u001b[0;34m,\u001b[0m \u001b[0mrecord\u001b[0m\u001b[0;34m.\u001b[0m\u001b[0malts\u001b[0m\u001b[0;34m[\u001b[0m\u001b[0;36m0\u001b[0m\u001b[0;34m]\u001b[0m\u001b[0;34m)\u001b[0m\u001b[0;34m\u001b[0m\u001b[0m\n\u001b[1;32m     13\u001b[0m     \u001b[0mL\u001b[0m\u001b[0;34m.\u001b[0m\u001b[0mappend\u001b[0m\u001b[0;34m(\u001b[0m\u001b[0mt\u001b[0m\u001b[0;34m)\u001b[0m\u001b[0;34m\u001b[0m\u001b[0m\n",
      "\u001b[0;32mpysam/libcfaidx.pyx\u001b[0m in \u001b[0;36mpysam.libcfaidx.FastaFile.fetch\u001b[0;34m()\u001b[0m\n",
      "\u001b[0;32mpysam/libcutils.pyx\u001b[0m in \u001b[0;36mpysam.libcutils.parse_region\u001b[0;34m()\u001b[0m\n",
      "\u001b[0;31mValueError\u001b[0m: start out of range (-46)"
     ]
    }
   ],
   "source": [
    "for record in vcf:\n",
    "   \n",
    "    #seq = genome.fetch(record.chrom, record.pos-1-flank, record.pos-1+len(record.ref)+flank)\n",
    "    \n",
    "    # print out tab seperated columns:\n",
    "    # CRHOM, POS, REF, ALT, flanking sequencing with variant given in the format '[REF/ALT]'\n",
    "    #print(record.chrom, record.pos, record.ref, record.alts[0])\n",
    "    #print(record.chrom,record.pos,record.ref, record.alts[0],\n",
    "    #      '{}[{}/{}]{}'.format(seq[:flank], record.ref,\n",
    "    #                           record.alts[0], seq[flank+len(record.ref):]), sep=\"\\t\")\n",
    "    seq = genome.fetch(record.chrom, record.pos-1-flank, record.pos-1+len(record.ref)+flank)\n",
    "    t=(seq, record.chrom, str(record.pos), record.id, record.ref, record.alts[0])\n",
    "    L.append(t)"
   ]
  },
  {
   "cell_type": "code",
   "execution_count": null,
   "metadata": {},
   "outputs": [],
   "source": []
  }
 ],
 "metadata": {
  "kernelspec": {
   "display_name": "Python 2",
   "language": "python",
   "name": "python2"
  },
  "language_info": {
   "codemirror_mode": {
    "name": "ipython",
    "version": 2
   },
   "file_extension": ".py",
   "mimetype": "text/x-python",
   "name": "python",
   "nbconvert_exporter": "python",
   "pygments_lexer": "ipython2",
   "version": "2.7.16"
  }
 },
 "nbformat": 4,
 "nbformat_minor": 2
}
